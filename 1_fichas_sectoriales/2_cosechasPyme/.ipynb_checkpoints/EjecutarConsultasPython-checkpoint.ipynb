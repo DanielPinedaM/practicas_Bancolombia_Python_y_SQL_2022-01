{
 "cells": [
  {
   "cell_type": "code",
   "execution_count": 3,
   "id": "2b137e10",
   "metadata": {},
   "outputs": [
    {
     "name": "stderr",
     "output_type": "stream",
     "text": [
      "2022-02-18 09:25:00 - [WARNING] - No se encontro la carpeta \"C:\\Users\\danpined\\cosechasPyme\\logs\" para guardar los logs\n"
     ]
    },
    {
     "name": "stdout",
     "output_type": "stream",
     "text": [
      " ____  _____ __  __  ___ _____ _____ \n",
      "|  _ \\| ____|  \\/  |/ _ \\_   _| ____|\n",
      "| |_) |  _| | |\\/| | | | || | |  _|  \n",
      "|  _ <| |___| |  | | |_| || | | |___ \n",
      "|_| \\_\\_____|_|  |_|\\___/ |_| |_____|\n",
      "                                     \n",
      " ____  ____   _    ____  _  __\n",
      "/ ___||  _ \\ / \\  |  _ \\| |/ /\n",
      "\\___ \\| |_) / _ \\ | |_) | ' / \n",
      " ___) |  __/ ___ \\|  _ <| . \\ \n",
      "|____/|_| /_/   \\_\\_| \\_\\_|\\_\\\n",
      "                              \n",
      "\n",
      "danpined password: ········\n"
     ]
    }
   ],
   "source": [
    "import sparky_bc.sparky as sparky\n",
    "sp = sparky.Sparky(username=\"danpined\")\n",
    "hp=sp.helper\n",
    "import pandas as pd"
   ]
  },
  {
   "cell_type": "code",
   "execution_count": 16,
   "id": "3de5502e",
   "metadata": {},
   "outputs": [
    {
     "name": "stdout",
     "output_type": "stream",
     "text": [
      "-----------------------------------------------------------------------------------------------\n",
      "                                       nueva_cosecha.sql                                       \n",
      "-----------------------------------------------------------------------------------------------\n",
      "   i    tipo                    nombre                     estado     hora_inicio   duracion   \n",
      "-----------------------------------------------------------------------------------------------\n",
      " 91/92    DROP     proceso_generadores.cd_cecsif2_pymes   finalizado   04:26:25 PM     00:00.5 \n",
      " 92/92  CREATE     proceso_generadores.cd_cecsif2_pymes   finalizado   04:26:25 PM     00:38.4 \n",
      "-----------------------------------------------------------------------------------------------\n",
      "\n",
      "Resumen de consultas:\n",
      "--------------------------------------\n",
      "    documento      total    duracion \n",
      "--------------------------------------\n",
      " nueva_cosecha.sql     92     12:12.2 \n",
      "--------------------------------------\n",
      "\n"
     ]
    }
   ],
   "source": [
    "hp.ejecutar_archivo(\"nueva_cosecha.sql\")\n",
    "#hp.ejecutar_consulta(\"SELECT COUNT(*) FROM proceso.ws_fideicomisos_trim\")"
   ]
  }
 ],
 "metadata": {
  "kernelspec": {
   "display_name": "Python 3 (ipykernel)",
   "language": "python",
   "name": "python3"
  },
  "language_info": {
   "codemirror_mode": {
    "name": "ipython",
    "version": 3
   },
   "file_extension": ".py",
   "mimetype": "text/x-python",
   "name": "python",
   "nbconvert_exporter": "python",
   "pygments_lexer": "ipython3",
   "version": "3.7.11"
  }
 },
 "nbformat": 4,
 "nbformat_minor": 5
}
