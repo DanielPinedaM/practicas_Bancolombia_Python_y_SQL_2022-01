{
 "cells": [
  {
   "cell_type": "code",
   "execution_count": 2,
   "id": "2b137e10",
   "metadata": {},
   "outputs": [
    {
     "name": "stderr",
     "output_type": "stream",
     "text": [
      "2022-02-17 09:13:57 - [WARNING] - No se encontro la carpeta \"C:\\Users\\danpined\\cosechasPyme\\logs\" para guardar los logs\n"
     ]
    },
    {
     "name": "stdout",
     "output_type": "stream",
     "text": [
      " ____  _____ __  __  ___ _____ _____ \n",
      "|  _ \\| ____|  \\/  |/ _ \\_   _| ____|\n",
      "| |_) |  _| | |\\/| | | | || | |  _|  \n",
      "|  _ <| |___| |  | | |_| || | | |___ \n",
      "|_| \\_\\_____|_|  |_|\\___/ |_| |_____|\n",
      "                                     \n",
      " ____  ____   _    ____  _  __\n",
      "/ ___||  _ \\ / \\  |  _ \\| |/ /\n",
      "\\___ \\| |_) / _ \\ | |_) | ' / \n",
      " ___) |  __/ ___ \\|  _ <| . \\ \n",
      "|____/|_| /_/   \\_\\_| \\_\\_|\\_\\\n",
      "                              \n",
      "\n",
      "danpined password: ········\n"
     ]
    }
   ],
   "source": [
    "import sparky_bc.sparky as sparky\n",
    "sp = sparky.Sparky(username=\"danpined\")\n",
    "hp=sp.helper\n",
    "import pandas as pd"
   ]
  },
  {
   "cell_type": "code",
   "execution_count": 7,
   "id": "3de5502e",
   "metadata": {},
   "outputs": [
    {
     "name": "stdout",
     "output_type": "stream",
     "text": [
      "----------------------------------------------------------------------------------------------\n",
      "                                      nueva_cosecha.sql                                       \n",
      "----------------------------------------------------------------------------------------------\n",
      "   i    tipo                   nombre                     estado     hora_inicio   duracion   \n",
      "----------------------------------------------------------------------------------------------\n",
      " 22/27   DROP proceso_generadores.cd_cecsif1_pymes_sms   finalizado   10:03:42 AM     00:00.2 \n",
      " 23/27 CREATE proceso_generadores.cd_cecsif1_pymes_sms   finalizado   10:03:43 AM     00:25.6 \n",
      " 24/27   DROP         proceso_generadores.ifrs9_origen   finalizado   10:04:08 AM     00:00.2 \n",
      " 25/27 CREATE         proceso_generadores.ifrs9_origen   finalizado   10:04:09 AM     00:08.1 \n",
      " 26/27   DROP   proceso_generadores.cruce_master_ifrs9   finalizado   10:04:17 AM     00:00.0 \n",
      " 27/27 CREATE   proceso_generadores.cruce_master_ifrs9   finalizado   10:04:17 AM     00:04.8 \n",
      "----------------------------------------------------------------------------------------------\n",
      "\n",
      "Resumen de consultas:\n",
      "--------------------------------------\n",
      "    documento      total    duracion \n",
      "--------------------------------------\n",
      " nueva_cosecha.sql     27     03:43.7 \n",
      "--------------------------------------\n",
      "\n"
     ]
    }
   ],
   "source": [
    "hp.ejecutar_archivo(\"nueva_cosecha.sql\")\n",
    "#hp.ejecutar_consulta(\"SELECT COUNT(*) FROM proceso.ws_fideicomisos_trim\")"
   ]
  }
 ],
 "metadata": {
  "kernelspec": {
   "display_name": "Python 3 (ipykernel)",
   "language": "python",
   "name": "python3"
  },
  "language_info": {
   "codemirror_mode": {
    "name": "ipython",
    "version": 3
   },
   "file_extension": ".py",
   "mimetype": "text/x-python",
   "name": "python",
   "nbconvert_exporter": "python",
   "pygments_lexer": "ipython3",
   "version": "3.7.11"
  }
 },
 "nbformat": 4,
 "nbformat_minor": 5
}
