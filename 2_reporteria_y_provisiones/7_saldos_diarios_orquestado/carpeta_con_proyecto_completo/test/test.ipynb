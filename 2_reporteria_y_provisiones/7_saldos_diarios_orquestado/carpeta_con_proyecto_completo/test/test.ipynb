{
 "cells": [
  {
   "cell_type": "code",
   "execution_count": 2,
   "metadata": {},
   "outputs": [
    {
     "name": "stderr",
     "output_type": "stream",
     "text": [
      "2022-02-04 09:21:00 - [WARNING] - No se encontro la carpeta \"c:\\Users\\diecebal\\Documents\\Saldos_Diarios_Orquestado\\test\\logs\" para guardar los logs\n"
     ]
    },
    {
     "name": "stdout",
     "output_type": "stream",
     "text": [
      " ____  _____ __  __  ___ _____ _____ \n",
      "|  _ \\| ____|  \\/  |/ _ \\_   _| ____|\n",
      "| |_) |  _| | |\\/| | | | || | |  _|  \n",
      "|  _ <| |___| |  | | |_| || | | |___ \n",
      "|_| \\_\\_____|_|  |_|\\___/ |_| |_____|\n",
      "                                     \n",
      " ____  ____   _    ____  _  __\n",
      "/ ___||  _ \\ / \\  |  _ \\| |/ /\n",
      "\\___ \\| |_) / _ \\ | |_) | ' / \n",
      " ___) |  __/ ___ \\|  _ <| . \\ \n",
      "|____/|_| /_/   \\_\\_| \\_\\_|\\_\\\n",
      "                              \n",
      "\n"
     ]
    }
   ],
   "source": [
    "import pyodbc\n",
    "import pandas as pd\n",
    "# import unittest\n",
    "from helper.helper import Helper\n",
    "from sparky_bc import Sparky\n",
    "import os\n",
    "import getpass\n",
    "\n",
    "usr=getpass.getuser()\n",
    "pass_usr=os.environ['PWD']\n",
    "\n",
    "sp = Sparky(usr,\"IMPALA_PROD\", False, pass_usr)\n",
    "hp = sp.helper\n",
    "\n",
    "ResultZone = 'resultados_riesgos'\n"
   ]
  },
  {
   "cell_type": "code",
   "execution_count": 3,
   "metadata": {},
   "outputs": [
    {
     "name": "stdout",
     "output_type": "stream",
     "text": [
      "------------------------------------------------------------\n",
      "  i    tipo    nombre    estado     hora_inicio   duracion   \n",
      "------------------------------------------------------------\n",
      " 1/1 DATAFRAME         ejecutando   09:21:23 AM             "
     ]
    },
    {
     "name": "stderr",
     "output_type": "stream",
     "text": [
      "2022-02-04 09:21:23 - [INFO] - 0 filas, 3 columnas, 00:00.3 consultando, 00:00.0 descargando, 00:00.0 convirtiendo\n"
     ]
    },
    {
     "name": "stdout",
     "output_type": "stream",
     "text": [
      " 1/1 DATAFRAME         finalizado   09:21:23 AM     00:00.4 \n",
      "------------------------------------------------------------\n"
     ]
    },
    {
     "ename": "IndexError",
     "evalue": "single positional indexer is out-of-bounds",
     "output_type": "error",
     "traceback": [
      "\u001b[1;31m---------------------------------------------------------------------------\u001b[0m",
      "\u001b[1;31mIndexError\u001b[0m                                Traceback (most recent call last)",
      "\u001b[1;32m~\\AppData\\Local\\Temp\\ipykernel_9196\\260073049.py\u001b[0m in \u001b[0;36m<module>\u001b[1;34m\u001b[0m\n\u001b[0;32m      1\u001b[0m \u001b[0masigna_df_cn\u001b[0m \u001b[1;33m=\u001b[0m \u001b[0mhp\u001b[0m\u001b[1;33m.\u001b[0m\u001b[0mobtener_dataframe\u001b[0m\u001b[1;33m(\u001b[0m\u001b[1;34m'select * from proceso.fechas_cierre'\u001b[0m\u001b[1;33m)\u001b[0m\u001b[1;33m\u001b[0m\u001b[1;33m\u001b[0m\u001b[0m\n\u001b[1;32m----> 2\u001b[1;33m \u001b[0mfecha_cierre\u001b[0m \u001b[1;33m=\u001b[0m \u001b[0masigna_df_cn\u001b[0m\u001b[1;33m.\u001b[0m\u001b[0miloc\u001b[0m\u001b[1;33m[\u001b[0m\u001b[1;36m0\u001b[0m\u001b[1;33m]\u001b[0m\u001b[1;33m[\u001b[0m\u001b[1;34m'fecha_corte'\u001b[0m\u001b[1;33m]\u001b[0m\u001b[1;33m\u001b[0m\u001b[1;33m\u001b[0m\u001b[0m\n\u001b[0m\u001b[0;32m      3\u001b[0m \u001b[0mprint\u001b[0m\u001b[1;33m(\u001b[0m\u001b[0mfecha_cierre\u001b[0m\u001b[1;33m)\u001b[0m\u001b[1;33m\u001b[0m\u001b[1;33m\u001b[0m\u001b[0m\n",
      "\u001b[1;32mC:\\Program Files\\Python37\\lib\\site-packages\\pandas\\core\\indexing.py\u001b[0m in \u001b[0;36m__getitem__\u001b[1;34m(self, key)\u001b[0m\n\u001b[0;32m    929\u001b[0m \u001b[1;33m\u001b[0m\u001b[0m\n\u001b[0;32m    930\u001b[0m             \u001b[0mmaybe_callable\u001b[0m \u001b[1;33m=\u001b[0m \u001b[0mcom\u001b[0m\u001b[1;33m.\u001b[0m\u001b[0mapply_if_callable\u001b[0m\u001b[1;33m(\u001b[0m\u001b[0mkey\u001b[0m\u001b[1;33m,\u001b[0m \u001b[0mself\u001b[0m\u001b[1;33m.\u001b[0m\u001b[0mobj\u001b[0m\u001b[1;33m)\u001b[0m\u001b[1;33m\u001b[0m\u001b[1;33m\u001b[0m\u001b[0m\n\u001b[1;32m--> 931\u001b[1;33m             \u001b[1;32mreturn\u001b[0m \u001b[0mself\u001b[0m\u001b[1;33m.\u001b[0m\u001b[0m_getitem_axis\u001b[0m\u001b[1;33m(\u001b[0m\u001b[0mmaybe_callable\u001b[0m\u001b[1;33m,\u001b[0m \u001b[0maxis\u001b[0m\u001b[1;33m=\u001b[0m\u001b[0maxis\u001b[0m\u001b[1;33m)\u001b[0m\u001b[1;33m\u001b[0m\u001b[1;33m\u001b[0m\u001b[0m\n\u001b[0m\u001b[0;32m    932\u001b[0m \u001b[1;33m\u001b[0m\u001b[0m\n\u001b[0;32m    933\u001b[0m     \u001b[1;32mdef\u001b[0m \u001b[0m_is_scalar_access\u001b[0m\u001b[1;33m(\u001b[0m\u001b[0mself\u001b[0m\u001b[1;33m,\u001b[0m \u001b[0mkey\u001b[0m\u001b[1;33m:\u001b[0m \u001b[0mtuple\u001b[0m\u001b[1;33m)\u001b[0m\u001b[1;33m:\u001b[0m\u001b[1;33m\u001b[0m\u001b[1;33m\u001b[0m\u001b[0m\n",
      "\u001b[1;32mC:\\Program Files\\Python37\\lib\\site-packages\\pandas\\core\\indexing.py\u001b[0m in \u001b[0;36m_getitem_axis\u001b[1;34m(self, key, axis)\u001b[0m\n\u001b[0;32m   1564\u001b[0m \u001b[1;33m\u001b[0m\u001b[0m\n\u001b[0;32m   1565\u001b[0m             \u001b[1;31m# validate the location\u001b[0m\u001b[1;33m\u001b[0m\u001b[1;33m\u001b[0m\u001b[1;33m\u001b[0m\u001b[0m\n\u001b[1;32m-> 1566\u001b[1;33m             \u001b[0mself\u001b[0m\u001b[1;33m.\u001b[0m\u001b[0m_validate_integer\u001b[0m\u001b[1;33m(\u001b[0m\u001b[0mkey\u001b[0m\u001b[1;33m,\u001b[0m \u001b[0maxis\u001b[0m\u001b[1;33m)\u001b[0m\u001b[1;33m\u001b[0m\u001b[1;33m\u001b[0m\u001b[0m\n\u001b[0m\u001b[0;32m   1567\u001b[0m \u001b[1;33m\u001b[0m\u001b[0m\n\u001b[0;32m   1568\u001b[0m             \u001b[1;32mreturn\u001b[0m \u001b[0mself\u001b[0m\u001b[1;33m.\u001b[0m\u001b[0mobj\u001b[0m\u001b[1;33m.\u001b[0m\u001b[0m_ixs\u001b[0m\u001b[1;33m(\u001b[0m\u001b[0mkey\u001b[0m\u001b[1;33m,\u001b[0m \u001b[0maxis\u001b[0m\u001b[1;33m=\u001b[0m\u001b[0maxis\u001b[0m\u001b[1;33m)\u001b[0m\u001b[1;33m\u001b[0m\u001b[1;33m\u001b[0m\u001b[0m\n",
      "\u001b[1;32mC:\\Program Files\\Python37\\lib\\site-packages\\pandas\\core\\indexing.py\u001b[0m in \u001b[0;36m_validate_integer\u001b[1;34m(self, key, axis)\u001b[0m\n\u001b[0;32m   1498\u001b[0m         \u001b[0mlen_axis\u001b[0m \u001b[1;33m=\u001b[0m \u001b[0mlen\u001b[0m\u001b[1;33m(\u001b[0m\u001b[0mself\u001b[0m\u001b[1;33m.\u001b[0m\u001b[0mobj\u001b[0m\u001b[1;33m.\u001b[0m\u001b[0m_get_axis\u001b[0m\u001b[1;33m(\u001b[0m\u001b[0maxis\u001b[0m\u001b[1;33m)\u001b[0m\u001b[1;33m)\u001b[0m\u001b[1;33m\u001b[0m\u001b[1;33m\u001b[0m\u001b[0m\n\u001b[0;32m   1499\u001b[0m         \u001b[1;32mif\u001b[0m \u001b[0mkey\u001b[0m \u001b[1;33m>=\u001b[0m \u001b[0mlen_axis\u001b[0m \u001b[1;32mor\u001b[0m \u001b[0mkey\u001b[0m \u001b[1;33m<\u001b[0m \u001b[1;33m-\u001b[0m\u001b[0mlen_axis\u001b[0m\u001b[1;33m:\u001b[0m\u001b[1;33m\u001b[0m\u001b[1;33m\u001b[0m\u001b[0m\n\u001b[1;32m-> 1500\u001b[1;33m             \u001b[1;32mraise\u001b[0m \u001b[0mIndexError\u001b[0m\u001b[1;33m(\u001b[0m\u001b[1;34m\"single positional indexer is out-of-bounds\"\u001b[0m\u001b[1;33m)\u001b[0m\u001b[1;33m\u001b[0m\u001b[1;33m\u001b[0m\u001b[0m\n\u001b[0m\u001b[0;32m   1501\u001b[0m \u001b[1;33m\u001b[0m\u001b[0m\n\u001b[0;32m   1502\u001b[0m     \u001b[1;31m# -------------------------------------------------------------------\u001b[0m\u001b[1;33m\u001b[0m\u001b[1;33m\u001b[0m\u001b[1;33m\u001b[0m\u001b[0m\n",
      "\u001b[1;31mIndexError\u001b[0m: single positional indexer is out-of-bounds"
     ]
    }
   ],
   "source": [
    "asigna_df_cn = hp.obtener_dataframe('select * from proceso.fechas_cierre')\n",
    "fecha_cierre = asigna_df_cn.iloc[0]['fecha_corte']\n",
    "print(fecha_cierre)"
   ]
  },
  {
   "cell_type": "code",
   "execution_count": 1,
   "metadata": {},
   "outputs": [],
   "source": [
    "import pandas as pd\n",
    "import numpy as np\n",
    "import sys\n",
    "import pyodbc\n",
    "import logging\n",
    "from datetime import datetime\n",
    "\n",
    "#Funcion para consultas en la base de datos\n",
    "def runQuery(query):\n",
    "    CONN_STR='DSN=IMPALA_PROD'\n",
    "    cn = pyodbc.connect(CONN_STR, autocommit = True )\n",
    "    cursor = cn.cursor()\n",
    "    cursor.execute(query)\n",
    "\n",
    "#Funcion para consultas en la base de datos guardando la informacion en un dataframe\n",
    "def runQueryPandas(query):\n",
    "    CONN_STR='DSN=IMPALA_PROD'\n",
    "    cn = pyodbc.connect(CONN_STR, autocommit = True )\n",
    "    data = pd.read_sql_query(query,cn)\n",
    "    return data"
   ]
  },
  {
   "cell_type": "code",
   "execution_count": 2,
   "metadata": {},
   "outputs": [],
   "source": [
    "hoy=\"22\"\n",
    "ayer=\"21\"\n",
    "corte=\"20211222\"\n",
    "querys_calculo=[\n",
    "\"\"\" SELECT        CAST(sum(sld_cap_final)/1000000 AS INT) AS sk_hoy, CAST(sum(cv)/1000000 AS INT) AS cv_hoy FROM proceso_riesgos.insumo_saldos WHERE ingestion_day=\"\"\"+hoy+\"\"\"\"\"\"\n",
    ",\"\"\" SELECT        CAST(sum(sld_cap_final)/1000000 AS INT) AS sk_ayer, CAST(sum(cv)/1000000 AS INT) AS cv_ayer FROM proceso_riesgos.insumo_saldos WHERE ingestion_day=\"\"\"+ayer+\"\"\"\"\"\"\n",
    ",\"\"\" SELECT CAST(sum(sld_cap_act)/1000000 AS INT) as sk_hoy,\n",
    "       CAST(sum(sld_cap_ant)/1000000 AS INT) as sk_ayer,\n",
    "       CAST(sum(cv_act)/1000000 AS INT) as cv_hoy,\n",
    "       CAST(sum(cv_ant)/1000000 AS INT) as cv_ayer FROM proceso_riesgos.variaciones_saldos_diarios \"\"\"\n",
    ",\"\"\" SELECT CAST(sum(sld_cap_act)/1000000 AS INT) as sk_hoy,\n",
    "       CAST(sum(sld_cap_ant)/1000000 AS INT) as sk_ayer,\n",
    "       CAST(sum(cv_act)/1000000 AS INT) as cv_hoy,\n",
    "       CAST(sum(cv_ant)/1000000 AS INT) as cv_ayer FROM proceso_riesgos.saldos_diarios_erm_pre1 \"\"\"\n",
    ",\"\"\" SELECT CAST(sum(sld_cap_act)/1000000 AS INT) as sk_hoy,\n",
    "       CAST(sum(sld_cap_ant)/1000000 AS INT) as sk_ayer,\n",
    "       CAST(sum(cv_act)/1000000 AS INT) as cv_hoy,\n",
    "       CAST(sum(cv_ant)/1000000 AS INT) as cv_ayer FROM proceso_riesgos.saldos_diarios_erm_pre2 \"\"\"\n",
    ",\"\"\" SELECT CAST(sum(sld_cap_act)/1000000 AS INT) as sk_hoy,\n",
    "       CAST(sum(sld_cap_ant)/1000000 AS INT) as sk_ayer,\n",
    "       CAST(sum(cv_act)/1000000 AS INT) as cv_hoy,\n",
    "       CAST(sum(cv_ant)/1000000 AS INT) as cv_ayer FROM proceso_riesgos.saldos_diarios_new_\"\"\"+corte+\"\"\"\"\"\"]"
   ]
  },
  {
   "cell_type": "code",
   "execution_count": 3,
   "metadata": {},
   "outputs": [],
   "source": [
    "# nombre_bases=[\n",
    "# \"\"\"proceso_riesgos.insumo_saldos \"\"\"\n",
    "# ,\"\"\"proceso_riesgos.insumo_saldos \"\"\"\n",
    "\n",
    "# ,\"\"\"proceso_riesgos.variaciones_saldos_diarios \"\"\"\n",
    "# ,\"\"\"proceso_riesgos.saldos_diarios_erm_pre1 \"\"\"\n",
    "# ,\"\"\"proceso_riesgos.saldos_diarios_erm_pre2 \"\"\"\n",
    "# ,\"\"\"proceso_riesgos.saldos_diarios_new \"\"\"]"
   ]
  },
  {
   "cell_type": "code",
   "execution_count": 4,
   "metadata": {},
   "outputs": [],
   "source": [
    "def consultar(dataframe):\n",
    "    dataframe_salida = pd.DataFrame()\n",
    "    for x in querys_calculo:\n",
    "        temp_data=runQueryPandas(x)\n",
    "        temp_position=querys_calculo.index(x)\n",
    "        temp_data.insert(0,\"TABLA\",nombre_bases[temp_position])\n",
    "        print(temp_data)\n",
    "        dataframe_salida=pd.concat([dataframe_salida,temp_data])\n",
    "        print(dataframe_salida.head())\n",
    "    return dataframe_salida"
   ]
  },
  {
   "cell_type": "code",
   "execution_count": 5,
   "metadata": {},
   "outputs": [],
   "source": [
    "# salida = pd.DataFrame()\n",
    "# salida_total= consultar(salida)\n",
    "# salida_total.to_excel(\"saldos_tabla.xlsx\")"
   ]
  },
  {
   "cell_type": "code",
   "execution_count": 6,
   "metadata": {},
   "outputs": [],
   "source": [
    "querys_calculo=[\n",
    "\"SELECT COUNT(*) from PROCESO_RIESGOS.preaprobados_productos_otros_agrupado\",\n",
    "\"SELECT COUNT(*) from PROCESO_RIESGOS.preaprob_multivariado_full\",\n",
    "\"SELECT COUNT(*) from PROCESO_RIESGOS.preaprob_productos_otros_full\",\n",
    "\"SELECT COUNT(*) from PROCESO_RIESGOS.preaprobados_multivariado_agrupado\",\n",
    "\"SELECT ingestion_year, ingestion_month, ingestion_day from PROCESO_RIESGOS.preaprobados_productos_otros_agrupado LIMIT 1\",\n",
    "\"SELECT ingestion_year, ingestion_month, ingestion_day from PROCESO_RIESGOS.preaprob_multivariado_full LIMIT 1\",\n",
    "\"SELECT ingestion_year, ingestion_month, ingestion_day from PROCESO_RIESGOS.preaprob_productos_otros_full LIMIT 1\",\n",
    "\"SELECT ingestion_year, ingestion_month, ingestion_day from PROCESO_RIESGOS.preaprobados_multivariado_agrupado LIMIT 1\"]"
   ]
  },
  {
   "cell_type": "code",
   "execution_count": 7,
   "metadata": {},
   "outputs": [],
   "source": [
    "nombre_bases=[\n",
    "\"\"\"preaprobados_productos_otros_agrupado \"\"\"\n",
    ",\"\"\"ppreaprob_multivariado_full \"\"\"\n",
    ",\"\"\"PROCESO_RIESGOS.preaprob_productos_otros_full \"\"\"\n",
    ",\"\"\"preaprobados_multivariado_agrupado \"\"\"\n",
    "\n",
    ",\"\"\"fechas 1 \"\"\"\n",
    ",\"\"\"fechas 2 \"\"\"\n",
    ",\"\"\"fechas 3 \"\"\"\n",
    ",\"\"\"fechas 4 \"\"\"]"
   ]
  },
  {
   "cell_type": "code",
   "execution_count": 8,
   "metadata": {},
   "outputs": [
    {
     "name": "stdout",
     "output_type": "stream",
     "text": [
      "                                    TABLA  expr_1\n",
      "0  preaprobados_productos_otros_agrupado     6334\n",
      "                                    TABLA  expr_1\n",
      "0  preaprobados_productos_otros_agrupado     6334\n",
      "                          TABLA    expr_1\n",
      "0  ppreaprob_multivariado_full   17561055\n",
      "                                    TABLA    expr_1\n",
      "0  preaprobados_productos_otros_agrupado       6334\n",
      "0            ppreaprob_multivariado_full   17561055\n",
      "                                            TABLA    expr_1\n",
      "0  PROCESO_RIESGOS.preaprob_productos_otros_full   15641450\n",
      "                                            TABLA    expr_1\n",
      "0          preaprobados_productos_otros_agrupado       6334\n",
      "0                    ppreaprob_multivariado_full   17561055\n",
      "0  PROCESO_RIESGOS.preaprob_productos_otros_full   15641450\n",
      "                                 TABLA    expr_1\n",
      "0  preaprobados_multivariado_agrupado   10980546\n",
      "                                            TABLA    expr_1\n",
      "0          preaprobados_productos_otros_agrupado       6334\n",
      "0                    ppreaprob_multivariado_full   17561055\n",
      "0  PROCESO_RIESGOS.preaprob_productos_otros_full   15641450\n",
      "0             preaprobados_multivariado_agrupado   10980546\n",
      "       TABLA  ingestion_year  ingestion_month  ingestion_day\n",
      "0  fechas 1             2021               12             17\n",
      "                                            TABLA      expr_1  ingestion_year  \\\n",
      "0          preaprobados_productos_otros_agrupado       6334.0             NaN   \n",
      "0                    ppreaprob_multivariado_full   17561055.0             NaN   \n",
      "0  PROCESO_RIESGOS.preaprob_productos_otros_full   15641450.0             NaN   \n",
      "0             preaprobados_multivariado_agrupado   10980546.0             NaN   \n",
      "0                                       fechas 1          NaN          2021.0   \n",
      "\n",
      "   ingestion_month  ingestion_day  \n",
      "0              NaN            NaN  \n",
      "0              NaN            NaN  \n",
      "0              NaN            NaN  \n",
      "0              NaN            NaN  \n",
      "0             12.0           17.0  \n",
      "       TABLA  ingestion_year  ingestion_month  ingestion_day\n",
      "0  fechas 2             2021               12             17\n",
      "                                            TABLA      expr_1  ingestion_year  \\\n",
      "0          preaprobados_productos_otros_agrupado       6334.0             NaN   \n",
      "0                    ppreaprob_multivariado_full   17561055.0             NaN   \n",
      "0  PROCESO_RIESGOS.preaprob_productos_otros_full   15641450.0             NaN   \n",
      "0             preaprobados_multivariado_agrupado   10980546.0             NaN   \n",
      "0                                       fechas 1          NaN          2021.0   \n",
      "\n",
      "   ingestion_month  ingestion_day  \n",
      "0              NaN            NaN  \n",
      "0              NaN            NaN  \n",
      "0              NaN            NaN  \n",
      "0              NaN            NaN  \n",
      "0             12.0           17.0  \n",
      "       TABLA  ingestion_year  ingestion_month  ingestion_day\n",
      "0  fechas 3             2021               12             17\n",
      "                                            TABLA      expr_1  ingestion_year  \\\n",
      "0          preaprobados_productos_otros_agrupado       6334.0             NaN   \n",
      "0                    ppreaprob_multivariado_full   17561055.0             NaN   \n",
      "0  PROCESO_RIESGOS.preaprob_productos_otros_full   15641450.0             NaN   \n",
      "0             preaprobados_multivariado_agrupado   10980546.0             NaN   \n",
      "0                                       fechas 1          NaN          2021.0   \n",
      "\n",
      "   ingestion_month  ingestion_day  \n",
      "0              NaN            NaN  \n",
      "0              NaN            NaN  \n",
      "0              NaN            NaN  \n",
      "0              NaN            NaN  \n",
      "0             12.0           17.0  \n",
      "       TABLA  ingestion_year  ingestion_month  ingestion_day\n",
      "0  fechas 4             2021               12             17\n",
      "                                            TABLA      expr_1  ingestion_year  \\\n",
      "0          preaprobados_productos_otros_agrupado       6334.0             NaN   \n",
      "0                    ppreaprob_multivariado_full   17561055.0             NaN   \n",
      "0  PROCESO_RIESGOS.preaprob_productos_otros_full   15641450.0             NaN   \n",
      "0             preaprobados_multivariado_agrupado   10980546.0             NaN   \n",
      "0                                       fechas 1          NaN          2021.0   \n",
      "\n",
      "   ingestion_month  ingestion_day  \n",
      "0              NaN            NaN  \n",
      "0              NaN            NaN  \n",
      "0              NaN            NaN  \n",
      "0              NaN            NaN  \n",
      "0             12.0           17.0  \n"
     ]
    }
   ],
   "source": [
    "salida = pd.DataFrame()\n",
    "salida_total= consultar(salida)\n",
    "salida_total.to_excel(\"saldos_tabla.xlsx\")"
   ]
  }
 ],
 "metadata": {
  "interpreter": {
   "hash": "5dda72baa791d4830c29738dff6f7af70054f6b4c1109606a9670746bcde8946"
  },
  "kernelspec": {
   "display_name": "Python 3.7.6 64-bit ('base': conda)",
   "name": "python3"
  },
  "language_info": {
   "codemirror_mode": {
    "name": "ipython",
    "version": 3
   },
   "file_extension": ".py",
   "mimetype": "text/x-python",
   "name": "python",
   "nbconvert_exporter": "python",
   "pygments_lexer": "ipython3",
   "version": "3.7.2"
  },
  "orig_nbformat": 4
 },
 "nbformat": 4,
 "nbformat_minor": 2
}
